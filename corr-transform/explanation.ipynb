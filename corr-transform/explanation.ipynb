{
 "cells": [
  {
   "cell_type": "code",
   "execution_count": 1,
   "metadata": {},
   "outputs": [],
   "source": [
    "import chaospy as cp\n",
    "import numpy as np\n",
    "\n",
    "from corr_auxiliary import gc_correlation"
   ]
  },
  {
   "cell_type": "markdown",
   "metadata": {},
   "source": [
    "This implements the algorithm outlined in Section 4.2 in [Kucherenko&al.(2012)](https://www.sciencedirect.com/science/article/pii/S0010465511004085?via%3Dihub). We specifiy the marginal distribution of the variables and their original correlation."
   ]
  },
  {
   "cell_type": "code",
   "execution_count": 2,
   "metadata": {},
   "outputs": [],
   "source": [
    "marginals = list()\n",
    "for mean in [1.00, -4.00, 4.20]:\n",
    "    marginals.append(cp.LogNormal(mean))\n",
    "    \n",
    "corr = [[1.0, 0.6, 0.3], \n",
    "        [0.6, 1.0, 0.0], \n",
    "        [0.3, 0.0, 1.0]]"
   ]
  },
  {
   "cell_type": "markdown",
   "metadata": {},
   "source": [
    "We need to map the original correlation matrix to the correlation matrix for the Gaussian copula."
   ]
  },
  {
   "cell_type": "code",
   "execution_count": 3,
   "metadata": {},
   "outputs": [],
   "source": [
    "corr_gaussian = gc_correlation(marginals, corr)"
   ]
  },
  {
   "cell_type": "markdown",
   "metadata": {},
   "source": [
    "We can now set up the copula and sample from it to see that the correlation between the variables in the sample lines up with the origial request."
   ]
  },
  {
   "cell_type": "code",
   "execution_count": 28,
   "metadata": {},
   "outputs": [
    {
     "data": {
      "text/plain": [
       "array([[1.   , 0.602, 0.307],\n",
       "       [0.602, 1.   , 0.003],\n",
       "       [0.307, 0.003, 1.   ]])"
      ]
     },
     "execution_count": 28,
     "metadata": {},
     "output_type": "execute_result"
    }
   ],
   "source": [
    "copula = cp.Nataf(cp.J(*marginals), corr_gaussian)\n",
    "np.corrcoef(copula.sample(1000000)).round(3)"
   ]
  },
  {
   "cell_type": "markdown",
   "metadata": {},
   "source": [
    "This is not the case if we simply pass in the the orginal correlation matrix"
   ]
  },
  {
   "cell_type": "code",
   "execution_count": 25,
   "metadata": {},
   "outputs": [
    {
     "data": {
      "text/plain": [
       "array([[ 1.   ,  0.478,  0.127],\n",
       "       [ 0.478,  1.   , -0.001],\n",
       "       [ 0.127, -0.001,  1.   ]])"
      ]
     },
     "execution_count": 25,
     "metadata": {},
     "output_type": "execute_result"
    }
   ],
   "source": [
    "copula = cp.Nataf(cp.J(*marginals), corr)\n",
    "np.corrcoef(copula.sample(1000000)).round(3)"
   ]
  }
 ],
 "metadata": {
  "kernelspec": {
   "display_name": "Python 3",
   "language": "python",
   "name": "python3"
  },
  "language_info": {
   "codemirror_mode": {
    "name": "ipython",
    "version": 3
   },
   "file_extension": ".py",
   "mimetype": "text/x-python",
   "name": "python",
   "nbconvert_exporter": "python",
   "pygments_lexer": "ipython3",
   "version": "3.7.7"
  }
 },
 "nbformat": 4,
 "nbformat_minor": 4
}
